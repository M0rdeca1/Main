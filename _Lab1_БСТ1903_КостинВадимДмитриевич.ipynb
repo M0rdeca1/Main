{
 "cells": [
  {
   "cell_type": "markdown",
   "metadata": {},
   "source": [
    "# Лабораторная работа №1"
   ]
  },
  {
   "cell_type": "markdown",
   "metadata": {},
   "source": [
    "## Выполнил студент группы БСТ1903 Костин В.Д."
   ]
  },
  {
   "cell_type": "markdown",
   "metadata": {},
   "source": [
    "### Задание №1"
   ]
  },
  {
   "cell_type": "markdown",
   "metadata": {},
   "source": [
    "1)Создать Jupyter Notebook со следующим наименованием: Lab1_Группа_ФИО\n",
    "\n",
    "\n"
   ]
  },
  {
   "cell_type": "markdown",
   "metadata": {},
   "source": [
    "2)Создать новую ячейку с помощью кнопки"
   ]
  },
  {
   "cell_type": "markdown",
   "metadata": {},
   "source": [
    "3)В созданной ячейке по указанной ниже форме заполните оглавление файла,  заменив наименование группы и вписав свое ФИО, Рисунок 1 - Форма оглавления   файла в ячейке после чего создайте еще одну ячейку и напишите следующий код:"
   ]
  },
  {
   "cell_type": "markdown",
   "metadata": {},
   "source": [
    "4)С помощью кнопки запустите выполнение всех ячеек."
   ]
  },
  {
   "cell_type": "markdown",
   "metadata": {},
   "source": [
    "5)После выполнения у вас должна отформатироваться ячейка с оглавлением и должен выполниться “Hello, World!”"
   ]
  },
  {
   "cell_type": "code",
   "execution_count": 2,
   "metadata": {},
   "outputs": [
    {
     "name": "stdout",
     "output_type": "stream",
     "text": [
      "hello world!\n"
     ]
    }
   ],
   "source": [
    "print('hello world!')"
   ]
  },
  {
   "cell_type": "markdown",
   "metadata": {},
   "source": [
    "### Задание №2"
   ]
  },
  {
   "cell_type": "markdown",
   "metadata": {},
   "source": [
    "Написать генератор случайных матриц(многомерных), который принимает опциональные параметры m, n, min_limit, max_limit, где m и n указывают размер матрицы, а min_lim и max_lim - минимальное и максимальное значение для генерируемого числа . По умолчанию при отсутствии параметров принимать следующие значения: m = 50 n = 50 min_limit = -250 max_limit = 1008"
   ]
  },
  {
   "cell_type": "code",
   "execution_count": 58,
   "metadata": {
    "scrolled": true
   },
   "outputs": [],
   "source": [
    "import random\n",
    "def randM(m = 50, n = 50, min_limit = -250, max_limit = 1008):\n",
    "    a = [[0] * n for i in range(m)]\n",
    "    for i in range(m):\n",
    "        for j in range(n):        \n",
    "                a[i][j] = random.randint(min_limit, max_limit)    \n",
    "    return a\n",
    "    for row in a:\n",
    "        print(' '.join([str(elem) for elem in row]))"
   ]
  },
  {
   "cell_type": "markdown",
   "metadata": {},
   "source": [
    "### Задание №3"
   ]
  },
  {
   "cell_type": "markdown",
   "metadata": {},
   "source": [
    "Реализовать методы сортировки строк числовой матрицы в соответствии с заданием. Оценить время работы каждого алгоритма сортировки и сравнить его со временем стандартной функции сортировки. Испытания проводить на сгенерированных матрицах. Методами: выбора, вставки, обмена, Шелла, турниной, быстрой и пирамидальной"
   ]
  },
  {
   "cell_type": "markdown",
   "metadata": {},
   "source": [
    "#### Выбором"
   ]
  },
  {
   "cell_type": "code",
   "execution_count": 59,
   "metadata": {},
   "outputs": [
    {
     "name": "stdout",
     "output_type": "stream",
     "text": [
      "Исходная матрица\n",
      "[93, 46, 36, 58]\n",
      "[35, 84, 81, 68]\n",
      "[67, 66, 55, 54]\n",
      "[12, 10, 99, 49]\n",
      "Матрица с отсортированными строками\n",
      "[36, 46, 58, 93]\n",
      "[35, 68, 81, 84]\n",
      "[54, 55, 66, 67]\n",
      "[10, 12, 49, 99]\n",
      "Время работы: 0.0010004043579101562\n"
     ]
    }
   ],
   "source": [
    "import time\n",
    "def selSort(matrix):\n",
    "    for row in matrix:\n",
    "        for i in range(len(row)):\n",
    "            minI = i\n",
    "            for j in range(i + 1, len(row)):\n",
    "                if row[j] < row[minI]:\n",
    "                    minI = j\n",
    "            row[i], row[minI] = row[minI], row[i]\n",
    "        print(row)\n",
    "start = time.time()\n",
    "matrix = randM(4, 4, 1, 99)\n",
    "print(\"Исходная матрица\")\n",
    "for row in matrix:\n",
    "    print(row)\n",
    "print(\"Матрица с отсортированными строками\")\n",
    "selection_sort(matrix)\n",
    "print(\"Время работы:\", time.time() - start)\n",
    "    "
   ]
  },
  {
   "cell_type": "markdown",
   "metadata": {},
   "source": [
    "#### Вставкой"
   ]
  },
  {
   "cell_type": "code",
   "execution_count": 71,
   "metadata": {},
   "outputs": [
    {
     "name": "stdout",
     "output_type": "stream",
     "text": [
      "Исходная матрица\n",
      "[85, 82, 44, 7]\n",
      "[56, 36, 70, 85]\n",
      "[69, 86, 85, 91]\n",
      "[87, 7, 10, 93]\n",
      "Матрица с отсортированными строками\n",
      "[7, 44, 82, 85]\n",
      "[36, 56, 70, 85]\n",
      "[69, 85, 86, 91]\n",
      "[7, 10, 87, 93]\n",
      "Время работы: 0.0010001659393310547\n"
     ]
    }
   ],
   "source": [
    "import time\n",
    "def inSort(matrix):  \n",
    "    for row in matrix:\n",
    "        for i in range(1, len(row)):\n",
    "            item_to_insert = row[i]\n",
    "            j = i - 1\n",
    "            while j >= 0 and row[j] > item_to_insert:\n",
    "                row[j + 1] = row[j]\n",
    "                j -= 1\n",
    "            row[j + 1] = item_to_insert\n",
    "        print(row)\n",
    "start = time.time()\n",
    "matrix = randM(4, 4, 1, 99)\n",
    "print(\"Исходная матрица\")\n",
    "for row in matrix:\n",
    "    print(row)\n",
    "print(\"Матрица с отсортированными строками\")\n",
    "inSort(matrix)\n",
    "print(\"Время работы:\", time.time() - start)"
   ]
  },
  {
   "cell_type": "markdown",
   "metadata": {},
   "source": [
    "#### Обменом"
   ]
  },
  {
   "cell_type": "code",
   "execution_count": 61,
   "metadata": {},
   "outputs": [
    {
     "name": "stdout",
     "output_type": "stream",
     "text": [
      "Исходная матрица\n",
      "[76, 4, 8, 63]\n",
      "[15, 53, 75, 81]\n",
      "[9, 74, 36, 97]\n",
      "[54, 84, 11, 27]\n",
      "Матрица с отсортированными строками\n",
      "[4, 8, 63, 76]\n",
      "[15, 53, 75, 81]\n",
      "[9, 36, 74, 97]\n",
      "[11, 27, 54, 84]\n",
      "Время работы: 0.001001596450805664\n"
     ]
    }
   ],
   "source": [
    "import time\n",
    "def bubbleSort(matrix):  \n",
    "    for row in matrix:\n",
    "        swapped = True\n",
    "        while swapped:\n",
    "            swapped = False\n",
    "            for i in range(len(row) - 1):\n",
    "                if row[i] > row[i + 1]:\n",
    "                    row[i], row[i + 1] = row[i + 1], row[i]\n",
    "                    swapped = True\n",
    "        print(row)\n",
    "start = time.time()\n",
    "matrix = randM(4, 4, 1, 99)\n",
    "print(\"Исходная матрица\")\n",
    "for row in matrix:\n",
    "    print(row)\n",
    "print(\"Матрица с отсортированными строками\")\n",
    "bubbleSort(matrix)\n",
    "print(\"Время работы:\", time.time() - start)"
   ]
  },
  {
   "cell_type": "markdown",
   "metadata": {},
   "source": [
    "#### Шелла"
   ]
  },
  {
   "cell_type": "code",
   "execution_count": 62,
   "metadata": {},
   "outputs": [
    {
     "name": "stdout",
     "output_type": "stream",
     "text": [
      "Исходная матрица\n",
      "[12, 87, 48, 76]\n",
      "[99, 14, 66, 26]\n",
      "[56, 97, 55, 8]\n",
      "[71, 63, 7, 22]\n",
      "Матрица с отсортированными строками\n",
      "[12, 48, 76, 87]\n",
      "[14, 26, 66, 99]\n",
      "[8, 55, 56, 97]\n",
      "[7, 22, 63, 71]\n",
      "Время работы: 0.0010004043579101562\n"
     ]
    }
   ],
   "source": [
    "\n",
    "def shellSort(matrix):\n",
    "    for row in matrix:\n",
    "        inc = len(row) // 2\n",
    "        while inc:\n",
    "            for i, el in enumerate(row):\n",
    "                while i >= inc and row[i - inc] > el:\n",
    "                    row[i] = row[i - inc]\n",
    "                    i -= inc\n",
    "                row[i] = el\n",
    "            inc = 1 if inc == 2 else int(inc * 5.0 / 11)\n",
    "        print(row)\n",
    "start = time.time()\n",
    "matrix = randM(4, 4, 1, 99)\n",
    "print(\"Исходная матрица\")\n",
    "for row in matrix:\n",
    "    print(row)\n",
    "print(\"Матрица с отсортированными строками\")\n",
    "shellSort(matrix)\n",
    "print(\"Время работы:\", time.time() - start)"
   ]
  },
  {
   "cell_type": "markdown",
   "metadata": {},
   "source": [
    "#### Турнирная "
   ]
  },
  {
   "cell_type": "code",
   "execution_count": 65,
   "metadata": {},
   "outputs": [
    {
     "name": "stdout",
     "output_type": "stream",
     "text": [
      "Исходная матрица\n",
      "[87, 12, 90, 33]\n",
      "[92, 41, 69, 27]\n",
      "[4, 94, 81, 90]\n",
      "[54, 99, 30, 17]\n",
      "Матрица с отсортированными строками\n",
      "[4, 94, 81, 90]\n",
      "[54, 99, 30, 17]\n",
      "[87, 12, 90, 33]\n",
      "[92, 41, 69, 27]\n",
      "Время работы: 0.0008630752563476562\n"
     ]
    }
   ],
   "source": [
    "import time\n",
    "def tourSort(arr):\n",
    "    tree = [None] * 2 * (len(arr) + len(arr) % 2)\n",
    "    index = len(tree) - len(arr) - len(arr) % 2\n",
    "    \n",
    "    for i, v in enumerate(arr):\n",
    "        tree[index + i] = (i, v)\n",
    "    \n",
    "    for j in range(len(arr)):\n",
    "        n = len(arr)\n",
    "        index = len(tree) - len(arr) - len(arr) % 2\n",
    "        while index > -1:\n",
    "            n = (n + 1) // 2\n",
    "            for i in range(n):\n",
    "                i = max(index + i * 2, 1) # на последней итерация index + i * 2 = 0\n",
    "                if tree[i] != None and tree[i + 1] != None:\n",
    "                    if tree[i][1] < tree[i + 1][1]:\n",
    "                        tree[i // 2] = tree[i]\n",
    "                    else:\n",
    "                        tree[i // 2] = tree[i + 1]\n",
    "                else:\n",
    "                    tree[i // 2] = tree[i] if tree[i] != None else tree[i + 1]\n",
    "            index -= n\n",
    "            \n",
    "        index, x = tree[0]\n",
    "        arr[j] = x\n",
    "        tree[len(tree) - len(arr) - len(arr) % 2 + index] = None\n",
    "        \n",
    "start = time.time()\n",
    "matrix = randM(4, 4, 1, 99)\n",
    "print(\"Исходная матрица\")\n",
    "for row in matrix:\n",
    "    print(row)\n",
    "print(\"Матрица с отсортированными строками\")\n",
    "tourSort(matrix)\n",
    "for row in matrix:\n",
    "    print(row)\n",
    "print(\"Время работы:\", time.time() - start)\n",
    "        \n"
   ]
  },
  {
   "cell_type": "markdown",
   "metadata": {},
   "source": [
    "#### Быстрая "
   ]
  },
  {
   "cell_type": "code",
   "execution_count": 67,
   "metadata": {},
   "outputs": [
    {
     "name": "stdout",
     "output_type": "stream",
     "text": [
      "Исходная матрица\n",
      "[62, 75, 44, 31]\n",
      "[46, 51, 93, 77]\n",
      "[7, 24, 32, 81]\n",
      "[46, 58, 77, 60]\n",
      "Матрица с отсортированными строками\n",
      "[31, 44, 62, 75]\n",
      "[46, 51, 77, 93]\n",
      "[7, 24, 32, 81]\n",
      "[46, 58, 60, 77]\n",
      "Время работы: 0.0009908676147460938\n"
     ]
    }
   ],
   "source": [
    "import time\n",
    "def quickSort(matrix): \n",
    "    def partition(nums, low, high):     \n",
    "        pivot = nums[(low + high) // 2]\n",
    "        i = low - 1\n",
    "        j = high + 1\n",
    "        while True:\n",
    "            i += 1\n",
    "            while nums[i] < pivot:\n",
    "                i += 1\n",
    "\n",
    "            j -= 1\n",
    "            while nums[j] > pivot:\n",
    "                j -= 1\n",
    "\n",
    "            if i >= j:\n",
    "                return j\n",
    "            nums[i], nums[j] = nums[j], nums[i]\n",
    "    for row in matrix:        \n",
    "        def _quick_sort(items, low, high):\n",
    "            if low < high:                \n",
    "                split_index = partition(items, low, high)\n",
    "                _quick_sort(items, low, split_index)\n",
    "                _quick_sort(items, split_index + 1, high)\n",
    "\n",
    "        _quick_sort(row, 0, len(row) - 1)\n",
    "        print(row)\n",
    "start = time.time()\n",
    "matrix = randM(4, 4, 1, 99)\n",
    "print(\"Исходная матрица\")\n",
    "for row in matrix:\n",
    "    print(row)\n",
    "print(\"Матрица с отсортированными строками\")\n",
    "quickSort(matrix)\n",
    "print(\"Время работы:\", time.time() - start)"
   ]
  },
  {
   "cell_type": "markdown",
   "metadata": {},
   "source": [
    "#### Пирамидальная "
   ]
  },
  {
   "cell_type": "code",
   "execution_count": 68,
   "metadata": {},
   "outputs": [
    {
     "name": "stdout",
     "output_type": "stream",
     "text": [
      "Исходная матрица\n",
      "[22, 30, 30, 44]\n",
      "[8, 11, 16, 13]\n",
      "[7, 92, 96, 61]\n",
      "[2, 75, 87, 24]\n",
      "Матрица с отсортированными строками\n",
      "[22, 30, 30, 44]\n",
      "[8, 11, 13, 16]\n",
      "[7, 61, 92, 96]\n",
      "[2, 24, 75, 87]\n",
      "Время работы: 0.0010001659393310547\n"
     ]
    }
   ],
   "source": [
    "import time\n",
    "def heapSort(matrix):  \n",
    "    def heapify(nums, heap_size, root_index):  \n",
    "        largest = root_index\n",
    "        left_child = (2 * root_index) + 1\n",
    "        right_child = (2 * root_index) + 2\n",
    "        if left_child < heap_size and nums[left_child] > nums[largest]:\n",
    "            largest = left_child\n",
    "        if right_child < heap_size and nums[right_child] > nums[largest]:\n",
    "            largest = right_child\n",
    "        if largest != root_index:\n",
    "            nums[root_index], nums[largest] = nums[largest], nums[root_index]\n",
    "            heapify(nums, heap_size, largest)\n",
    "    for row in matrix:\n",
    "        n = len(row)\n",
    "        for i in range(n, -1, -1):\n",
    "            heapify(row, n, i)\n",
    "        for i in range(n - 1, 0, -1):\n",
    "            row[i], row[0] = row[0], row[i]\n",
    "            heapify(row, i, 0)\n",
    "        print(row)\n",
    "        \n",
    "start = time.time()\n",
    "matrix = randM(4, 4, 1, 99)\n",
    "print(\"Исходная матрица\")\n",
    "for row in matrix:\n",
    "    print(row)\n",
    "print(\"Матрица с отсортированными строками\")\n",
    "heapSort(matrix)\n",
    "print(\"Время работы:\", time.time() - start)"
   ]
  },
  {
   "cell_type": "code",
   "execution_count": null,
   "metadata": {},
   "outputs": [],
   "source": []
  }
 ],
 "metadata": {
  "kernelspec": {
   "display_name": "Python 3",
   "language": "python",
   "name": "python3"
  },
  "language_info": {
   "codemirror_mode": {
    "name": "ipython",
    "version": 3
   },
   "file_extension": ".py",
   "mimetype": "text/x-python",
   "name": "python",
   "nbconvert_exporter": "python",
   "pygments_lexer": "ipython3",
   "version": "3.8.5"
  }
 },
 "nbformat": 4,
 "nbformat_minor": 4
}
